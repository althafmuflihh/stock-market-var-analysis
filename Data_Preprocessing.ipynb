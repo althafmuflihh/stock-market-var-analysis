{
  "cells": [
    {
      "cell_type": "markdown",
      "source": [
        "# Importing Necessary Libraries"
      ],
      "metadata": {
        "id": "4KrtphCdlSa6"
      }
    },
    {
      "cell_type": "code",
      "execution_count": 35,
      "metadata": {
        "id": "T9X1Lnu0JV-v"
      },
      "outputs": [],
      "source": [
        "import matplotlib.pyplot as plt\n",
        "import pandas as pd\n",
        "import numpy as np"
      ]
    },
    {
      "cell_type": "markdown",
      "source": [
        "# Loading and Preprocessing Data"
      ],
      "metadata": {
        "id": "Qh7RteimlX7d"
      }
    },
    {
      "cell_type": "code",
      "execution_count": 36,
      "metadata": {
        "colab": {
          "base_uri": "https://localhost:8080/"
        },
        "id": "hYJH2MShKD84",
        "outputId": "458fc6f5-fa97-4852-d738-70f382a69e1c"
      },
      "outputs": [
        {
          "output_type": "stream",
          "name": "stdout",
          "text": [
            "                 證券代碼       年月日        指數      漲跌    漲跌幅%  週漲跌幅 %   月漲跌幅 %\n",
            "1    SB03 美國紐約道瓊工業平均數  20000103  11357.50 -139.60 -1.2142 -0.2951   0.6317\n",
            "2         SB05 香港恆生指數  20000103  17369.60  407.53  2.4026  3.1862   9.6541\n",
            "3        SB08 德國DAX指數  20000103   6750.76 -207.38 -2.9804 -1.2674  10.3213\n",
            "4  SB10 馬來西亞吉隆坡綜合股價指數  20000103    833.89   21.56  2.6541  6.1172  15.0780\n",
            "5   SB11 菲律賓馬尼拉綜合股價指數  20000103   2141.77   -1.20 -0.0560  1.9857  10.5772\n"
          ]
        }
      ],
      "source": [
        "file_path = '20241017121452-international indices.txt'\n",
        "df = pd.read_csv(file_path, encoding='big5', delimiter='\\t')\n",
        "df = df.iloc[1:]"
      ]
    },
    {
      "cell_type": "code",
      "execution_count": 37,
      "metadata": {
        "colab": {
          "base_uri": "https://localhost:8080/"
        },
        "id": "8G7vqUB4HTf6",
        "outputId": "63158cc7-e110-4251-e46d-a3b1de5de22b"
      },
      "outputs": [
        {
          "output_type": "stream",
          "name": "stdout",
          "text": [
            "Index(['證券代碼', '年月日', '指數', '漲跌', '漲跌幅%', '週漲跌幅 %', '月漲跌幅 %'], dtype='object')\n"
          ]
        }
      ],
      "source": [
        "print(df.head())\n",
        "print(df.columns)"
      ]
    },
    {
      "cell_type": "code",
      "execution_count": 38,
      "metadata": {
        "colab": {
          "base_uri": "https://localhost:8080/"
        },
        "id": "lrQz2aKnH_d1",
        "outputId": "39e58690-c9e0-43b1-cead-d284a0670761"
      },
      "outputs": [
        {
          "output_type": "stream",
          "name": "stdout",
          "text": [
            "Filtered DataFrame:\n",
            "             年月日    漲跌幅%\n",
            "1       20000103 -1.2142\n",
            "2       20000103  2.4026\n",
            "3       20000103 -2.9804\n",
            "4       20000103  2.6541\n",
            "5       20000103 -0.0560\n",
            "...          ...     ...\n",
            "343799  20241016 -0.1863\n",
            "343800  20241016  0.4460\n",
            "343801  20241016 -0.3057\n",
            "343802  20241016  0.6236\n",
            "343803  20241016  0.5805\n",
            "\n",
            "[343803 rows x 2 columns]\n",
            "\n",
            "Grouped and Averaged DataFrame:\n",
            "           年月日      漲跌幅%\n",
            "0     20000103 -1.391155\n",
            "1     20000104 -1.228341\n",
            "2     20000105 -1.489622\n",
            "3     20000106 -0.297250\n",
            "4     20000107  1.515849\n",
            "...        ...       ...\n",
            "7785  20241011  0.128463\n",
            "7786  20241013 -0.022950\n",
            "7787  20241014  0.434009\n",
            "7788  20241015 -0.302843\n",
            "7789  20241016 -0.143327\n",
            "\n",
            "[7790 rows x 2 columns]\n",
            "\n",
            "Vector:\n",
            "[-1.39115455 -1.22834054 -1.48962162 ...  0.43400877 -0.30284262\n",
            " -0.14332667]\n"
          ]
        }
      ],
      "source": [
        "filtered_df = df[['年月日', '漲跌幅%']]\n",
        "average_df = filtered_df.groupby('年月日', as_index=False).mean()\n",
        "vector = average_df['漲跌幅%'].to_numpy()\n",
        "print(\"Filtered DataFrame:\")\n",
        "print(filtered_df)\n",
        "print(\"\\nGrouped and Averaged DataFrame:\")\n",
        "print(average_df)\n",
        "print(\"\\nVector:\")\n",
        "print(vector)"
      ]
    },
    {
      "cell_type": "code",
      "source": [
        "next_20_rows = average_df.iloc[5290:5300]\n",
        "print(next_20_rows)"
      ],
      "metadata": {
        "colab": {
          "base_uri": "https://localhost:8080/"
        },
        "id": "g6dJtthQPAMU",
        "outputId": "551fbf9b-95d4-446e-f906-1d24bcea5723"
      },
      "execution_count": 39,
      "outputs": [
        {
          "output_type": "stream",
          "name": "stdout",
          "text": [
            "           年月日      漲跌幅%\n",
            "5290  20161027  0.165380\n",
            "5291  20161028 -0.123215\n",
            "5292  20161030 -0.444900\n",
            "5293  20161031 -0.115496\n",
            "5294  20161101 -0.132432\n",
            "5295  20161102 -1.231150\n",
            "5296  20161103  0.014229\n",
            "5297  20161104 -0.451673\n",
            "5298  20161106  0.369175\n",
            "5299  20161107  0.939795\n"
          ]
        }
      ]
    },
    {
      "cell_type": "code",
      "source": [
        "next_20_rows = average_df.iloc[4500:7000]\n",
        "print(next_20_rows)"
      ],
      "metadata": {
        "colab": {
          "base_uri": "https://localhost:8080/"
        },
        "id": "sj7Wbepeiar1",
        "outputId": "2847af33-c054-4e2b-b470-407a6957d85c"
      },
      "execution_count": 40,
      "outputs": [
        {
          "output_type": "stream",
          "name": "stdout",
          "text": [
            "           年月日      漲跌幅%\n",
            "4500  20140424 -0.040053\n",
            "4501  20140425 -0.826417\n",
            "4502  20140427 -0.296650\n",
            "4503  20140428 -0.240076\n",
            "4504  20140429  0.690068\n",
            "...        ...       ...\n",
            "6995  20220331 -0.201925\n",
            "6996  20220401  0.438422\n",
            "6997  20220403 -0.224400\n",
            "6998  20220404  0.463631\n",
            "6999  20220405 -0.497511\n",
            "\n",
            "[2500 rows x 2 columns]\n"
          ]
        }
      ]
    },
    {
      "cell_type": "code",
      "execution_count": 41,
      "metadata": {
        "colab": {
          "base_uri": "https://localhost:8080/"
        },
        "id": "ZaLlj-ArIZ5r",
        "outputId": "2fbe661b-3b4b-4cfe-d0fc-897d620613a3"
      },
      "outputs": [
        {
          "output_type": "stream",
          "name": "stdout",
          "text": [
            "Number of unique data rows (no repetition in 年月日): 7790\n"
          ]
        }
      ],
      "source": [
        "unique_data_count = df.drop_duplicates(subset='年月日').shape[0]\n",
        "print(f\"Number of unique data rows (no repetition in 年月日): {unique_data_count}\")"
      ]
    },
    {
      "cell_type": "markdown",
      "source": [
        "# Data Conversion and Storage"
      ],
      "metadata": {
        "id": "IHFdsNNBlf8b"
      }
    },
    {
      "cell_type": "code",
      "execution_count": 42,
      "metadata": {
        "id": "NHnXcEaOIZyC"
      },
      "outputs": [],
      "source": [
        "vector_df = pd.DataFrame(vector, columns=['daily return'])\n",
        "vector_df.to_csv('vector_output.csv', index=False, encoding='utf-8-sig')"
      ]
    },
    {
      "cell_type": "markdown",
      "source": [
        "# Data Visualization"
      ],
      "metadata": {
        "id": "SXvkRJ71lkB3"
      }
    },
    {
      "cell_type": "code",
      "execution_count": 43,
      "metadata": {
        "colab": {
          "base_uri": "https://localhost:8080/",
          "height": 575
        },
        "id": "Jj2mNMpDJD9j",
        "outputId": "7b74d037-9ce0-422b-c560-8be9ffd3daf2"
      },
      "outputs": [
        {
          "output_type": "stream",
          "name": "stderr",
          "text": [
            "/usr/local/lib/python3.11/dist-packages/IPython/core/pylabtools.py:151: UserWarning: Glyph 28466 (\\N{CJK UNIFIED IDEOGRAPH-6F32}) missing from font(s) DejaVu Sans.\n",
            "  fig.canvas.print_figure(bytes_io, **kw)\n",
            "/usr/local/lib/python3.11/dist-packages/IPython/core/pylabtools.py:151: UserWarning: Glyph 36300 (\\N{CJK UNIFIED IDEOGRAPH-8DCC}) missing from font(s) DejaVu Sans.\n",
            "  fig.canvas.print_figure(bytes_io, **kw)\n",
            "/usr/local/lib/python3.11/dist-packages/IPython/core/pylabtools.py:151: UserWarning: Glyph 24133 (\\N{CJK UNIFIED IDEOGRAPH-5E45}) missing from font(s) DejaVu Sans.\n",
            "  fig.canvas.print_figure(bytes_io, **kw)\n"
          ]
        },
        {
          "output_type": "display_data",
          "data": {
            "text/plain": [
              "<Figure size 1500x500 with 1 Axes>"
            ],
            "image/png": "[encoded data removed]"
          },
          "metadata": {}
        }
      ],
      "source": [
        "plt.figure(figsize=(15, 5))\n",
        "plt.plot(vector, linestyle='-', color='b', label='漲跌幅%')\n",
        "plt.title('Vector Plot', fontsize=14)\n",
        "plt.xlabel('Index', fontsize=12)\n",
        "plt.ylabel('daily%', fontsize=12)\n",
        "plt.grid(True, linestyle='--', alpha=0.7)\n",
        "plt.legend()\n",
        "plt.show()"
      ]
    }
  ],
  "metadata": {
    "colab": {
      "provenance": []
    },
    "kernelspec": {
      "display_name": "Python 3",
      "name": "python3"
    },
    "language_info": {
      "name": "python"
    }
  },
  "nbformat": 4,
  "nbformat_minor": 0
}